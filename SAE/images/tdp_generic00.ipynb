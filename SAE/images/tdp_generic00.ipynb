{
 "cells": [
  {
   "cell_type": "markdown",
   "metadata": {},
   "source": [
    "# TD / TP  Généricité #\n",
    "*Rémi Cozot, août 2023* <br>"
   ]
  },
  {
   "cell_type": "markdown",
   "metadata": {},
   "source": [
    "## Description ##\n",
    "Le but du travail pratique est la création d'une classe générique correspondant à une collection d'objets taggés."
   ]
  },
  {
   "cell_type": "markdown",
   "metadata": {},
   "source": [
    "## TAG : Chaîne de caractères ##\n",
    "Le tag associé est une chaîne de caractère, il n'y a aucun contrôle sur les tags : le même **tag** peut être utilisé pour plusieurs objets.\n",
    "La collection est codée comme une liste de couple [**tag**, objet] : la généricité porte uniquement sur le type d'objet."
   ]
  },
  {
   "cell_type": "code",
   "execution_count": 2,
   "metadata": {},
   "outputs": [],
   "source": [
    "from __future__ import annotations\n",
    "from typing import Generic, TypeVar\n",
    "\n",
    "E = TypeVar('E')"
   ]
  },
  {
   "cell_type": "code",
   "execution_count": 3,
   "metadata": {},
   "outputs": [],
   "source": [
    "class TaggedCollection(Generic[E]):\n",
    "    def __init__(self:TaggedCollection):\n",
    "        self._list : list[tuple[str,E]] = []\n",
    "    def add(self:TaggedCollection, elt: E, tag:str):\n",
    "        self._list += [tag, elt]\n",
    "\n",
    "    def getFirstByTag(self: TaggedCollection):\n",
    "        return self._list[0]\n",
    "        \n",
    "    def getLastByTag(self: TaggedCollection):\n",
    "        last = len(self._list)\n",
    "        return self._list[last]\n",
    "        \n",
    "    def getAllByTag(self:TaggedCollection):\n",
    "        return self._list\n",
    "    \n",
    "    '''\n",
    "    ajouter les founctions :\n",
    "    \"getFirstByTag\"\n",
    "    \"getLastByTag\"\n",
    "    \"getAllByTag\"\n",
    "    \n",
    "    '''\n"
   ]
  },
  {
   "cell_type": "code",
   "execution_count": 4,
   "metadata": {},
   "outputs": [],
   "source": [
    "class Enseignant:\n",
    "    def __init__(self: Enseignant, nom: str):\n",
    "        self.__nom: str = nom\n",
    "    def __repr__(self:Enseignant) -> str:\n",
    "        return '\"'+self.__nom+'\"'\n"
   ]
  },
  {
   "cell_type": "code",
   "execution_count": 5,
   "metadata": {},
   "outputs": [],
   "source": [
    "# Une chaîne d'enseignant avec tag(str)\n",
    "Capitaine : Enseignant = Enseignant(\"Capitaine\")"
   ]
  },
  {
   "cell_type": "code",
   "execution_count": 6,
   "metadata": {},
   "outputs": [
    {
     "name": "stdout",
     "output_type": "stream",
     "text": [
      "\"Capitaine\"\n"
     ]
    }
   ],
   "source": [
    "# Vos résultats de validation\n",
    "print(Capitaine)"
   ]
  },
  {
   "cell_type": "markdown",
   "metadata": {},
   "source": [
    "## TAG : objet \"Comparable\" ##\n"
   ]
  },
  {
   "cell_type": "code",
   "execution_count": 7,
   "metadata": {},
   "outputs": [],
   "source": [
    "class Comparable:\n",
    "    def equals(self: Comparable, other: Comparable) -> bool:\n",
    "        if (self == other) == True:\n",
    "            return True\n",
    "        else:\n",
    "            return False\n",
    "\n"
   ]
  },
  {
   "cell_type": "code",
   "execution_count": 8,
   "metadata": {},
   "outputs": [],
   "source": [
    "K = TypeVar('K', bound=Comparable)  \n",
    "E = TypeVar('E')"
   ]
  },
  {
   "cell_type": "code",
   "execution_count": 9,
   "metadata": {},
   "outputs": [],
   "source": [
    "class Tag (Comparable):\n",
    "    def __init__(self: Tag, a: int, b:int):\n",
    "        self.key : tuple[int, int] = (a, b)\n",
    "    def __repr__(self: Tag) -> str:\n",
    "        return f'<self.key = \"tuple[int, int]\">'\n",
    "    def equals(self: Tag, o : Tag) -> bool:\n",
    "        if (self == o) == True:\n",
    "            return True\n",
    "        else:\n",
    "            return False\n",
    "\n",
    "class Produit:\n",
    "    def __init__(self: Produit, name: str, price: float):\n",
    "        self.name : str = name\n",
    "        self.price : float = price\n",
    "    def __repr__(self: Produit) -> str:\n",
    "        return f'\"{self.name}\": {self.price} €'"
   ]
  },
  {
   "cell_type": "code",
   "execution_count": 10,
   "metadata": {},
   "outputs": [],
   "source": [
    "class TaggedCollection(Comparable):\n",
    "    def __init__(self:TaggedCollection):\n",
    "        self._list: list[tuple[Produit, Tag]] = []\n",
    "    def add(self:TaggedCollection, prod: Produit, tag:Tag):\n",
    "        self._list += [prod, tag]\n",
    "    def getAllByTag(self:TaggedCollection):\n",
    "        return self._list\n",
    "        \n"
   ]
  },
  {
   "cell_type": "code",
   "execution_count": 11,
   "metadata": {},
   "outputs": [],
   "source": [
    "# Une chaîne de Produit avec Tag(class)\n",
    "\n",
    "liste_de_produits : TaggedCollection = TaggedCollection()\n",
    "\n",
    "Fromage : Produit = Produit(\"Fromage\", \"1\")\n",
    "Jambon : Produit = Produit(\"Fromage\", \"2\")\n",
    "\n",
    "liste_de_produits.add(Fromage, \"Nourriture\")\n",
    "liste_de_produits.add(Jambon, \"Nourriture\")\n",
    "\n",
    "\n",
    "\n"
   ]
  },
  {
   "cell_type": "code",
   "execution_count": 12,
   "metadata": {},
   "outputs": [
    {
     "name": "stdout",
     "output_type": "stream",
     "text": [
      "[\"Fromage\": 1 €, 'Nourriture', \"Fromage\": 2 €, 'Nourriture']\n"
     ]
    }
   ],
   "source": [
    "# Vos résultats de validation\n",
    "print(liste_de_produits.getAllByTag())"
   ]
  },
  {
   "cell_type": "markdown",
   "metadata": {},
   "source": [
    "## Extension : liste de tags ##\n",
    "\n",
    "- *getAllhave*(list[**Tag**]) : renvoie les objets qui ont au moins l'un des tags de la liste.\n",
    "- *getAllhaveAll*(list[**Tag**]) : renvoie les objets qui ont tous les tags de la liste.\n",
    "- *getAllhaveOnly*(list[**Tag**]) : renvoie les objects dont les tags sont compris dans la liste."
   ]
  },
  {
   "cell_type": "code",
   "execution_count": 13,
   "metadata": {},
   "outputs": [],
   "source": [
    "\n",
    "def getAllhave(objects, required_tags):\n",
    "    return [obj for obj in objects if any(tag in obj.tags for tag in required_tags)]\n",
    "\n",
    "def getAllhaveAll(objects, required_tags):\n",
    "    return [obj for obj in objects if all(tag in obj.tags for tag in required_tags)]\n",
    "\n",
    "def getAllhaveOnly(objects, valid_tags):\n",
    "    return [obj for obj in objects if set(obj.tags).issubset(valid_tags)]\n"
   ]
  }
 ],
 "metadata": {
  "kernelspec": {
   "display_name": "Python 3 (ipykernel)",
   "language": "python",
   "name": "python3"
  },
  "language_info": {
   "codemirror_mode": {
    "name": "ipython",
    "version": 3
   },
   "file_extension": ".py",
   "mimetype": "text/x-python",
   "name": "python",
   "nbconvert_exporter": "python",
   "pygments_lexer": "ipython3",
   "version": "3.10.6"
  }
 },
 "nbformat": 4,
 "nbformat_minor": 2
}
